{
  "nbformat": 4,
  "nbformat_minor": 0,
  "metadata": {
    "colab": {
      "provenance": [],
      "gpuType": "V28",
      "authorship_tag": "ABX9TyMcXnv+wB19ieYE/Hfc2MAU",
      "include_colab_link": true
    },
    "kernelspec": {
      "name": "python3",
      "display_name": "Python 3"
    },
    "language_info": {
      "name": "python"
    },
    "accelerator": "TPU"
  },
  "cells": [
    {
      "cell_type": "markdown",
      "metadata": {
        "id": "view-in-github",
        "colab_type": "text"
      },
      "source": [
        "<a href=\"https://colab.research.google.com/github/Erika000o/Parcial2_R.A.2/blob/main/Parcial2.ipynb\" target=\"_parent\"><img src=\"https://colab.research.google.com/assets/colab-badge.svg\" alt=\"Open In Colab\"/></a>"
      ]
    },
    {
      "cell_type": "markdown",
      "source": [
        "#Paso 1: Importar librerías y definir el modelo"
      ],
      "metadata": {
        "id": "oP9GtSW3rKFv"
      }
    },
    {
      "cell_type": "code",
      "execution_count": 10,
      "metadata": {
        "id": "KINIiPdYnN_l"
      },
      "outputs": [],
      "source": [
        "import torch\n",
        "import torch.nn as nn\n",
        "import torch.optim as optim\n",
        "import matplotlib.pyplot as plt\n",
        "\n",
        "#Definir el modelo\n",
        "class SimpleNN(nn.Module):\n",
        "    def __init__(self):\n",
        "        super(SimpleNN, self).__init__()\n",
        "        self.fc1 = nn.Linear(784, 128) #capa oculta\n",
        "        self.fc2 = nn.Linear(128, 10) #capa de salida\n",
        "\n",
        "    def forward(self, x):\n",
        "        x = torch.relu(self.fc1(x)) #Activacion ReLu en la capa oculta\n",
        "        x = self.fc2(x) #Capa de salida\n",
        "        return x\n"
      ]
    },
    {
      "cell_type": "markdown",
      "source": [
        "#Paso 2: Inicialización de componentes\n"
      ],
      "metadata": {
        "id": "6h7dso-qrKeU"
      }
    },
    {
      "cell_type": "code",
      "source": [
        "#Inicializar el modelo, criterio y optimizador\n",
        "model = SimpleNN()\n",
        "criterion = nn.CrossEntropyLoss() #Perdida de entropia cruzada\n",
        "optimizer = optim.Adam(model.parameters(), lr=0.001) #Optimizador Adam"
      ],
      "metadata": {
        "id": "a3xpmXb5sEzL"
      },
      "execution_count": 11,
      "outputs": []
    },
    {
      "cell_type": "markdown",
      "source": [
        "#Paso 3: Generar datos de entrenamiento\n"
      ],
      "metadata": {
        "id": "ffzswWs4sgYk"
      }
    },
    {
      "cell_type": "code",
      "source": [
        "#Crear datos de entrenamiento aleatorios\n",
        "x_train = torch.randn(100, 784) #Datos aleatorios\n",
        "y_train = torch.randint(0, 10, (100,)) #Etiquetas aleatorias"
      ],
      "metadata": {
        "id": "k0bklmUgsKll"
      },
      "execution_count": 12,
      "outputs": []
    },
    {
      "cell_type": "markdown",
      "source": [
        "#Paso 4: Entrenamiento y visualización\n"
      ],
      "metadata": {
        "id": "S9EY6bGLsvia"
      }
    },
    {
      "cell_type": "code",
      "source": [
        "#Listas para almacenar la perdida\n",
        "losses = []\n",
        "\n",
        "#Entrenamineto del modelo\n",
        "for epoch in range(10):\n",
        "  optimizer.zero_grad() #Inicializar los gradientes\n",
        "  outputs = model(x_train) #Pasar los datos a traves del modelo\n",
        "  loss = criterion(outputs, y_train) #Calcular la perdida\n",
        "  losses.append(loss.item()) #Almacenar la perdida\n",
        "  loss.backward() #Calcular gradientes\n",
        "  optimizer.step() #Actualizar los pesos\n",
        "\n",
        "#Visualización de la perdida\n",
        "plt.plot(losses)\n",
        "plt.title('Perdida durante el entrenamineto')\n",
        "plt.xlabel('Epocas')\n",
        "plt.ylabel('Perdida')\n",
        "plt.show()\n",
        "\n"
      ],
      "metadata": {
        "colab": {
          "base_uri": "https://localhost:8080/",
          "height": 472
        },
        "id": "l9pW8cIXs0VF",
        "outputId": "a60d266f-6b01-4cd3-98a4-f4a2b41e4442"
      },
      "execution_count": 13,
      "outputs": [
        {
          "output_type": "display_data",
          "data": {
            "text/plain": [
              "<Figure size 640x480 with 1 Axes>"
            ],
            "image/png": "[encoded data removed]"
          },
          "metadata": {}
        }
      ]
    },
    {
      "cell_type": "markdown",
      "source": [
        "#Ejercicio 2"
      ],
      "metadata": {
        "id": "bhusClhQ0WF6"
      }
    },
    {
      "cell_type": "markdown",
      "source": [
        "#Paso 1: Importación de librerías"
      ],
      "metadata": {
        "id": "DYuGNZ42xI6R"
      }
    },
    {
      "cell_type": "code",
      "source": [
        "import tensorflow as tf\n",
        "import numpy as np"
      ],
      "metadata": {
        "id": "ngkGStWrxSc_"
      },
      "execution_count": 14,
      "outputs": []
    },
    {
      "cell_type": "markdown",
      "source": [
        "#Paso 2: Definir el modelo"
      ],
      "metadata": {
        "id": "QTXEcgoGxY6Q"
      }
    },
    {
      "cell_type": "code",
      "source": [
        "model = tf.keras.Sequential([\n",
        "    tf.keras.layers.Dense(64, activation='relu', input_shape=(784,)),\n",
        "    tf.keras.layers.Dense(64, activation='relu'),\n",
        "    tf.keras.layers.Dense(10, activation='softmax')\n",
        "])"
      ],
      "metadata": {
        "id": "5V7ALJrmxbDv"
      },
      "execution_count": 15,
      "outputs": []
    },
    {
      "cell_type": "markdown",
      "source": [
        "#Paso 3: Compilar el modelo usando Adam"
      ],
      "metadata": {
        "id": "ypbrlNJgxokG"
      }
    },
    {
      "cell_type": "code",
      "source": [
        "model.compile(optimizer='adam', loss='sparse_categorical_crossentropy', metrics=['accuracy'])"
      ],
      "metadata": {
        "id": "OIclNU3yxrAj"
      },
      "execution_count": 16,
      "outputs": []
    },
    {
      "cell_type": "markdown",
      "source": [
        "#Paso 4: Preparar el conjunto de datos"
      ],
      "metadata": {
        "id": "ygWCXE-sxwxq"
      }
    },
    {
      "cell_type": "code",
      "source": [
        "(x_train, y_train), (x_test, y_test) = tf.keras.datasets.mnist.load_data()\n",
        "x_train = x_train.reshape(-1, 784) / 255.0\n",
        "x_test = x_test.reshape(-1, 784) / 255.0"
      ],
      "metadata": {
        "colab": {
          "base_uri": "https://localhost:8080/"
        },
        "id": "gIT7ZYaWx1f5",
        "outputId": "f6f588a9-e4be-4261-d509-e6df2b1faa04"
      },
      "execution_count": 17,
      "outputs": [
        {
          "output_type": "stream",
          "name": "stdout",
          "text": [
            "Downloading data from https://storage.googleapis.com/tensorflow/tf-keras-datasets/mnist.npz\n",
            "11490434/11490434 [==============================] - 0s 0us/step\n"
          ]
        }
      ]
    },
    {
      "cell_type": "markdown",
      "source": [
        "#Paso 5: Entrenar el modelo"
      ],
      "metadata": {
        "id": "2kUg0bXayImW"
      }
    },
    {
      "cell_type": "code",
      "source": [
        "model.fit(x_train, y_train, epochs=10, validation_data=(x_test, y_test))"
      ],
      "metadata": {
        "colab": {
          "base_uri": "https://localhost:8080/"
        },
        "id": "qSA1j4Y4yPsC",
        "outputId": "9941f184-ef78-4738-a642-404ccf58e5a3"
      },
      "execution_count": 18,
      "outputs": [
        {
          "output_type": "stream",
          "name": "stdout",
          "text": [
            "Epoch 1/10\n",
            "1875/1875 [==============================] - 6s 3ms/step - loss: 0.2867 - accuracy: 0.9166 - val_loss: 0.1448 - val_accuracy: 0.9575\n",
            "Epoch 2/10\n",
            "1875/1875 [==============================] - 5s 3ms/step - loss: 0.1260 - accuracy: 0.9624 - val_loss: 0.1254 - val_accuracy: 0.9641\n",
            "Epoch 3/10\n",
            "1875/1875 [==============================] - 5s 2ms/step - loss: 0.0904 - accuracy: 0.9725 - val_loss: 0.0991 - val_accuracy: 0.9684\n",
            "Epoch 4/10\n",
            "1875/1875 [==============================] - 5s 2ms/step - loss: 0.0722 - accuracy: 0.9772 - val_loss: 0.0969 - val_accuracy: 0.9698\n",
            "Epoch 5/10\n",
            "1875/1875 [==============================] - 4s 2ms/step - loss: 0.0587 - accuracy: 0.9817 - val_loss: 0.0827 - val_accuracy: 0.9744\n",
            "Epoch 6/10\n",
            "1875/1875 [==============================] - 5s 2ms/step - loss: 0.0509 - accuracy: 0.9840 - val_loss: 0.0850 - val_accuracy: 0.9759\n",
            "Epoch 7/10\n",
            "1875/1875 [==============================] - 5s 2ms/step - loss: 0.0406 - accuracy: 0.9866 - val_loss: 0.0886 - val_accuracy: 0.9761\n",
            "Epoch 8/10\n",
            "1875/1875 [==============================] - 4s 2ms/step - loss: 0.0359 - accuracy: 0.9882 - val_loss: 0.0973 - val_accuracy: 0.9725\n",
            "Epoch 9/10\n",
            "1875/1875 [==============================] - 4s 2ms/step - loss: 0.0308 - accuracy: 0.9901 - val_loss: 0.0908 - val_accuracy: 0.9771\n",
            "Epoch 10/10\n",
            "1875/1875 [==============================] - 5s 2ms/step - loss: 0.0280 - accuracy: 0.9901 - val_loss: 0.0874 - val_accuracy: 0.9768\n"
          ]
        },
        {
          "output_type": "execute_result",
          "data": {
            "text/plain": [
              "<keras.src.callbacks.History at 0x7df27c057a60>"
            ]
          },
          "metadata": {},
          "execution_count": 18
        }
      ]
    },
    {
      "cell_type": "markdown",
      "source": [
        "#Paso 6: Evaluar el modelo"
      ],
      "metadata": {
        "id": "bwfiffoNzU1k"
      }
    },
    {
      "cell_type": "code",
      "source": [
        "model.evaluate(x_test, y_test)"
      ],
      "metadata": {
        "colab": {
          "base_uri": "https://localhost:8080/"
        },
        "id": "7K2Vz6P1zZpf",
        "outputId": "24965b8e-8e98-4d2e-f258-824d0b281205"
      },
      "execution_count": 19,
      "outputs": [
        {
          "output_type": "stream",
          "name": "stdout",
          "text": [
            "313/313 [==============================] - 1s 2ms/step - loss: 0.0874 - accuracy: 0.9768\n"
          ]
        },
        {
          "output_type": "execute_result",
          "data": {
            "text/plain": [
              "[0.08738192170858383, 0.9768000245094299]"
            ]
          },
          "metadata": {},
          "execution_count": 19
        }
      ]
    },
    {
      "cell_type": "markdown",
      "source": [
        "#Ejercicio 3\n"
      ],
      "metadata": {
        "id": "sBkEJ-Pa0SZN"
      }
    },
    {
      "cell_type": "code",
      "source": [
        "# Paso 1: Importar TensorFlow y NumPy\n",
        "import tensorflow as tf\n",
        "import numpy as np\n",
        "\n",
        "# Paso 2: Generar datos de ejemplo para clasificación binaria\n",
        "np.random.seed(42)\n",
        "X = np.random.randn(1000, 20)\n",
        "y = np.where(np.sum(X, axis=1) > 10, 1, 0)\n",
        "\n",
        "# Paso 3: Definir la red de una sola capa\n",
        "model = tf.keras.Sequential([\n",
        "    tf.keras.layers.Dense(1, activation='sigmoid', input_shape=(20,))  # Capa única con activación sigmoide\n",
        "])\n",
        "\n",
        "# Paso 4: Compilar el modelo\n",
        "model.compile(optimizer='adam',\n",
        "              loss='binary_crossentropy',\n",
        "              metrics=['accuracy'])\n",
        "\n",
        "# Paso 5: Entrenar el modelo\n",
        "model.fit(X, y, epochs=10)\n",
        "\n",
        "# Paso 6: Evaluar el modelo\n",
        "loss, accuracy = model.evaluate(X, y)\n",
        "print(f'Precisión del modelo: {accuracy}')"
      ],
      "metadata": {
        "colab": {
          "base_uri": "https://localhost:8080/"
        },
        "id": "sE1bR9l30FXM",
        "outputId": "7208ba60-3ea1-4967-a508-e517fe481367"
      },
      "execution_count": 20,
      "outputs": [
        {
          "output_type": "stream",
          "name": "stdout",
          "text": [
            "Epoch 1/10\n",
            "32/32 [==============================] - 0s 2ms/step - loss: 0.9062 - accuracy: 0.4740\n",
            "Epoch 2/10\n",
            "32/32 [==============================] - 0s 2ms/step - loss: 0.8711 - accuracy: 0.4860\n",
            "Epoch 3/10\n",
            "32/32 [==============================] - 0s 2ms/step - loss: 0.8372 - accuracy: 0.4960\n",
            "Epoch 4/10\n",
            "32/32 [==============================] - 0s 1ms/step - loss: 0.8061 - accuracy: 0.5070\n",
            "Epoch 5/10\n",
            "32/32 [==============================] - 0s 1ms/step - loss: 0.7752 - accuracy: 0.5260\n",
            "Epoch 6/10\n",
            "32/32 [==============================] - 0s 1ms/step - loss: 0.7468 - accuracy: 0.5430\n",
            "Epoch 7/10\n",
            "32/32 [==============================] - 0s 1ms/step - loss: 0.7196 - accuracy: 0.5670\n",
            "Epoch 8/10\n",
            "32/32 [==============================] - 0s 1ms/step - loss: 0.6940 - accuracy: 0.5900\n",
            "Epoch 9/10\n",
            "32/32 [==============================] - 0s 1ms/step - loss: 0.6691 - accuracy: 0.6110\n",
            "Epoch 10/10\n",
            "32/32 [==============================] - 0s 1ms/step - loss: 0.6460 - accuracy: 0.6300\n",
            "32/32 [==============================] - 0s 1ms/step - loss: 0.6334 - accuracy: 0.6480\n",
            "Precisión del modelo: 0.6480000019073486\n"
          ]
        }
      ]
    },
    {
      "cell_type": "markdown",
      "source": [],
      "metadata": {
        "id": "fHAVWfLg0FCZ"
      }
    }
  ]
}